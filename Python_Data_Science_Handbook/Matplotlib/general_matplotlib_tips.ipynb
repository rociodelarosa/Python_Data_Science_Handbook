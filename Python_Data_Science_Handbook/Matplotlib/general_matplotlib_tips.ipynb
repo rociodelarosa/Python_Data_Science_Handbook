{
 "cells": [
  {
   "cell_type": "markdown",
   "metadata": {},
   "source": [
    "# Visualization with Matplotlib\n",
    "## General Matplotlib Tips\n",
    "### Importing matplotlib"
   ]
  },
  {
   "cell_type": "code",
   "execution_count": null,
   "metadata": {},
   "outputs": [],
   "source": [
    "import matplotlib as mpl\n",
    "import matplotlib.pyplot as plt"
   ]
  }
 ],
 "metadata": {
  "interpreter": {
   "hash": "86db95798a4deecffdf18e196e3247bbf0482c4f85b39a7f272bc91e8b70357b"
  },
  "kernelspec": {
   "display_name": "Python 3.9.7 ('base')",
   "language": "python",
   "name": "python3"
  },
  "language_info": {
   "name": "python",
   "version": "3.9.7"
  },
  "orig_nbformat": 4
 },
 "nbformat": 4,
 "nbformat_minor": 2
}
